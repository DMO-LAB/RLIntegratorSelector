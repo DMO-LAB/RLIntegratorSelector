{
 "cells": [
  {
   "cell_type": "code",
   "execution_count": 3,
   "metadata": {},
   "outputs": [],
   "source": [
    "from ember import Config, Paths, InitialCondition, StrainParameters, General, Times, TerminationCondition, ConcreteConfig, Grid, PositionControl,General, Debug\n",
    "import matplotlib.pyplot as plt\n",
    "\n",
    "output = 'run/ex_diffusion9'\n",
    "import numpy as np\n",
    "import matplotlib.pyplot as plt\n",
    "import h5py\n",
    "import cantera as ct\n",
    "import os\n",
    "\n",
    "from ember import _ember"
   ]
  },
  {
   "cell_type": "markdown",
   "metadata": {},
   "source": [
    "mamba activate ember-build1   \n"
   ]
  },
  {
   "cell_type": "code",
   "execution_count": 4,
   "metadata": {},
   "outputs": [],
   "source": [
    "def plot_analysis(struct_file, species_to_plot, species_index):\n",
    "    struct = h5py.File(struct_file, 'r')\n",
    "    x = struct['x'][:]\n",
    "    Y = struct['Y'][:]\n",
    "    V = struct['V'][:]\n",
    "    T = struct['T'][:]\n",
    "    \n",
    "    print(f\"Max temperature: {np.max(T)}\")\n",
    "    rho = struct['rho'][:]\n",
    "    \n",
    "    fig, (ax1, ax2, ax3, ax4) = plt.subplots(4, 1, figsize=(8, 20), dpi=200)\n",
    "    \n",
    "    ax1.plot(x, T, label='T')\n",
    "    ax1.set_xlabel('Position [m]')\n",
    "    ax1.set_ylabel('Temperature [K]')\n",
    "    ax1.set_title('Temperature Profile')\n",
    "    ax1.legend()\n",
    "    ax1.grid()\n",
    "    \n",
    "    ax2.plot(x, V, label='V')\n",
    "    ax2.set_xlabel('Position [m]')\n",
    "    ax2.set_ylabel('Velocity [m/s]')\n",
    "    ax2.set_title('Velocity Profile')\n",
    "    ax2.legend()\n",
    "    ax2.grid()\n",
    "    \n",
    "    ax3.plot(x, rho, label='rho')\n",
    "    ax3.set_xlabel('Position [m]')\n",
    "    ax3.set_ylabel('Density [kg/m3]')\n",
    "    ax3.set_title('Density Profile')\n",
    "    ax3.legend()\n",
    "    \n",
    "    ax3.grid()\n",
    "    \n",
    "    for i, index in enumerate(species_index):\n",
    "        ax4.plot(x, Y[index, :], label=species_to_plot[i])  \n",
    "    ax4.set_xlabel('Position [m]')\n",
    "    ax4.set_ylabel('Mass Fraction')\n",
    "    ax4.set_title('Mass Fraction Profile')\n",
    "    ax4.legend()\n",
    "    \n",
    "    ax4.grid()\n",
    "    \n",
    "    plt.show()\n",
    "\n",
    "\"\"\"\n",
    "Visualization tools for PyEmber flame solutions\n",
    "\"\"\"\n",
    "import numpy as np\n",
    "import matplotlib.pyplot as plt\n",
    "from matplotlib.animation import FuncAnimation\n",
    "from typing import Optional, List, Tuple\n",
    "\n",
    "class FlameVisualizer:\n",
    "    \"\"\"\n",
    "    Visualization tools for flame solutions\n",
    "    \"\"\"\n",
    "    def __init__(self, flame):\n",
    "        self.flame = flame\n",
    "        self.fig = None\n",
    "        self._animation = None\n",
    "        self.history = {\n",
    "            't': [],\n",
    "            'T': [],\n",
    "            'Y': [],\n",
    "            'V': [],\n",
    "            'U': []\n",
    "        }\n",
    "\n",
    "    def save_state(self):\n",
    "        \"\"\"Save current state for animation\"\"\"\n",
    "        # self.history['t'].append(self.flame.t)\n",
    "        self.history['T'].append(self.flame.T.copy())\n",
    "        self.history['Y'].append(self.flame.Y.copy())\n",
    "        self.history['V'].append(self.flame.V.copy())\n",
    "        self.history['U'].append(self.flame.U.copy())\n",
    "\n",
    "    def plot_current_state(self, species_names: Optional[List[str]] = None, gas=None, title=\"Flame structure\"):\n",
    "        \"\"\"\n",
    "        Plot current flame state\n",
    "        \n",
    "        Args:\n",
    "            species_names: List of species to plot (if None, plots major species)\n",
    "        \"\"\"\n",
    "        # check if flame as attribute grid\n",
    "        if not hasattr(self.flame, 'grid'):\n",
    "            x = self.flame.x * 1000  # Convert to mm\n",
    "        else:\n",
    "            x = self.flame.grid.x * 1000  # Convert to mm\n",
    "        \n",
    "        # Create figure with 3 subplots\n",
    "        if self.fig is None:\n",
    "            self.fig, (ax1, ax2, ax3) = plt.subplots(3, 1, figsize=(10, 12))\n",
    "            self.fig.suptitle(title)\n",
    "        else:\n",
    "            ax1, ax2, ax3 = self.fig.axes\n",
    "            for ax in (ax1, ax2, ax3):\n",
    "                ax.clear()\n",
    "\n",
    "        # Temperature profile\n",
    "        ax1.plot(x, self.flame.T, 'r-', label='Temperature')\n",
    "        ax1.set_ylabel('Temperature [K]')\n",
    "        ax1.legend()\n",
    "        ax1.grid(True)\n",
    "\n",
    "        # Species profiles\n",
    "        if species_names is None:\n",
    "            # Plot major species (Y > 0.01 anywhere)\n",
    "            mask = np.max(self.flame.Y, axis=1) > 0.01\n",
    "            species_indices = np.where(mask)[0]\n",
    "            if gas is None:\n",
    "                species_names = [self.flame.gas.species_name(k) for k in species_indices]\n",
    "            else:\n",
    "                species_names = [gas.species_name(k) for k in species_indices]\n",
    "        else:\n",
    "            if gas is None:\n",
    "                species_indices = [self.flame.gas.species_index(name) \n",
    "                                for name in species_names]\n",
    "            else:\n",
    "                species_indices = [gas.species_index(name) \n",
    "                             for name in species_names]\n",
    "\n",
    "        for k, name in zip(species_indices, species_names):\n",
    "            ax2.plot(x, self.flame.Y[k], label=name)\n",
    "        ax2.set_ylabel('Mass Fraction')\n",
    "        ax2.legend()\n",
    "        ax2.grid(True)\n",
    "\n",
    "        # Velocity profile\n",
    "        ax3.plot(x, self.flame.U, 'b-', label='Mass Flux')\n",
    "        ax3.set_xlabel('Position [mm]')\n",
    "        ax3.set_ylabel('Mass Flux [kg/m²/s]')\n",
    "        ax3.legend()\n",
    "        ax3.grid(True)\n",
    "\n",
    "        plt.tight_layout()\n",
    "        plt.show()\n",
    "\n",
    "    def create_animation(self, species_names: Optional[List[str]] = None,\n",
    "                        interval: int = 50) -> FuncAnimation:\n",
    "        \"\"\"\n",
    "        Create animation of flame evolution\n",
    "        \n",
    "        Args:\n",
    "            species_names: List of species to animate\n",
    "            interval: Time between frames in milliseconds\n",
    "            \n",
    "        Returns:\n",
    "            matplotlib.animation.FuncAnimation object\n",
    "        \"\"\"\n",
    "        fig, (ax1, ax2, ax3) = plt.subplots(3, 1, figsize=(10, 12))\n",
    "        fig.suptitle('Flame Evolution')\n",
    "\n",
    "        x = self.flame.grid.x * 1000  # mm\n",
    "        \n",
    "        # Set up species to plot\n",
    "        if species_names is None:\n",
    "            mask = np.max(self.flame.Y, axis=1) > 0.01\n",
    "            species_indices = np.where(mask)[0]\n",
    "            species_names = [self.flame.gas.species_name(k) for k in species_indices]\n",
    "        else:\n",
    "            species_indices = [self.flame.gas.species_index(name) \n",
    "                             for name in species_names]\n",
    "            print(species_indices)\n",
    "\n",
    "        # Temperature limits\n",
    "        T_min = min(np.min(T) for T in self.history['T'])\n",
    "        T_max = max(np.max(T) for T in self.history['T'])\n",
    "        \n",
    "        # Species limits\n",
    "        Y_max = {k: max(np.max(Y[k]) for Y in self.history['Y'])\n",
    "                 for k in species_indices}\n",
    "        \n",
    "        # Velocity limits\n",
    "        V_min = min(np.min(V) for V in self.history['V'])\n",
    "        V_max = max(np.max(V) for V in self.history['V'])\n",
    "\n",
    "        def animate(frame):\n",
    "            # Clear axes\n",
    "            for ax in (ax1, ax2, ax3):\n",
    "                ax.clear()\n",
    "                ax.grid(True)\n",
    "\n",
    "            # Temperature\n",
    "            ax1.plot(x, self.history['T'][frame], 'r-')\n",
    "            ax1.set_ylabel('Temperature [K]')\n",
    "            ax1.set_ylim(T_min, T_max * 1.1)\n",
    "\n",
    "            # Species\n",
    "            for k, name in zip(species_indices, species_names):\n",
    "                ax2.plot(x, self.history['Y'][frame][k], label=name)\n",
    "            ax2.set_ylabel('Mass Fraction')\n",
    "            ax2.legend()\n",
    "            #ax2.set_ylim(0, max(Y_max.values()) * 1.1)\n",
    "\n",
    "            # Velocity\n",
    "            ax3.plot(x, self.history['V'][frame], 'b-')\n",
    "            ax3.set_xlabel('Position [mm]')\n",
    "            ax3.set_ylabel('Mass Flux [kg/m²/s]')\n",
    "            ax3.set_ylim(V_min * 1.1, V_max * 1.1)\n",
    "\n",
    "            # Time stamp\n",
    "            fig.suptitle(f'Flame Evolution (t = {self.history[\"t\"][frame]:.3f} s)')\n",
    "\n",
    "        self._animation = FuncAnimation(\n",
    "            fig, animate, frames=len(self.history['t']),\n",
    "            interval=interval, blit=False\n",
    "        )\n",
    "        \n",
    "        return self._animation\n",
    "\n",
    "    def save_animation(self, filename: str, fps: int = 20):\n",
    "        \"\"\"\n",
    "        Save animation to file\n",
    "        \n",
    "        Args:\n",
    "            filename: Output filename (.mp4 or .gif)\n",
    "            fps: Frames per second\n",
    "        \"\"\"\n",
    "        if self._animation is None:\n",
    "            self.create_animation()\n",
    "            \n",
    "        self._animation.save(filename, fps=fps)"
   ]
  },
  {
   "cell_type": "code",
   "execution_count": 5,
   "metadata": {},
   "outputs": [],
   "source": [
    "# get index for CH4, O2, N2, H2O, CO2, CO\n",
    "gas = ct.Solution('gri30.yaml')\n",
    "names = gas.species_names\n",
    "ch4_index = names.index('CH4')\n",
    "o2_index = names.index('O2')\n",
    "n2_index = names.index('N2')\n",
    "h2o_index = names.index('H2O')\n",
    "co2_index = names.index('CO2')\n",
    "co_index = names.index('CO')\n",
    "oh_index = names.index('OH')\n"
   ]
  },
  {
   "cell_type": "code",
   "execution_count": null,
   "metadata": {},
   "outputs": [],
   "source": [
    "\n",
    "from ember import Config, Paths, InitialCondition, StrainParameters, General, Times, TerminationCondition, ConcreteConfig, Grid, PositionControl,General, Debug\n",
    "import matplotlib.pyplot as plt\n",
    "\n",
    "output = 'run/ex_diffusion9'\n",
    "import numpy as np\n",
    "import matplotlib.pyplot as plt\n",
    "import h5py\n",
    "import cantera as ct\n",
    "import os\n",
    "\n",
    "from ember import _ember\n",
    "conf = Config(\n",
    "    Paths(outputDir='run/ex_diffusion11'),\n",
    "    General(nThreads=1,\n",
    "            chemistryIntegrator='qss'),\n",
    "    InitialCondition(Tfuel=600,\n",
    "                     Toxidizer=1200,\n",
    "                     centerWidth=0.0,\n",
    "                     equilibrateCounterflow=False,\n",
    "                     flameType='diffusion',\n",
    "                     slopeWidth=0.0,\n",
    "                     xLeft=-0.02,\n",
    "                     pressure=101325,\n",
    "                     xRight=0.02,\n",
    "                     nPoints=100),\n",
    "    StrainParameters(final=100,\n",
    "                     initial=100),\n",
    "    Times(globalTimestep=1e-05,\n",
    "          profileStepInterval=20),\n",
    "    TerminationCondition(abstol=0.0,\n",
    "                         dTdtTol=0,\n",
    "                         steadyPeriod=1.0,\n",
    "                         tEnd=0.08,\n",
    "                         tolerance=0.0),\n",
    "    Debug(veryVerbose=False),)\n",
    "\n",
    "\n",
    "conf = ConcreteConfig(conf)\n",
    "\n",
    "confString = conf.original.stringify()\n",
    "\n",
    "if not os.path.isdir(conf.paths.outputDir):\n",
    "    os.makedirs(conf.paths.outputDir, 0o0755)\n",
    "confOutPath = os.path.join(conf.paths.outputDir, 'config')\n",
    "if (os.path.exists(confOutPath)):\n",
    "    os.unlink(confOutPath)\n",
    "confOut = open(confOutPath, 'w')\n",
    "confOut.write(confString)\n",
    "\n",
    "\n",
    "\n",
    "solver = _ember.FlameSolver(conf)\n",
    "solver.initialize()\n",
    "# visualizer = FlameVisualizer(solver)\n",
    "\n",
    "\n"
   ]
  },
  {
   "cell_type": "code",
   "execution_count": null,
   "metadata": {},
   "outputs": [],
   "source": [
    "prev_T = solver.T \n",
    "prev_Y = solver.Y\n",
    "prev_x = solver.x\n",
    "\n",
    "visualizer.save_state()\n",
    "\n",
    "done = 0\n",
    "i = 1\n",
    "plot_freq = 10\n",
    "print(solver.T[21:51])\n",
    "while not done:\n",
    "    done = solver.step()\n",
    "    if i % 5 == 0:\n",
    "        visualizer.save_state()\n",
    "        \n",
    "    # if i % plot_freq == 0:  \n",
    "    #     plot_flame(solver, i, i*1e-4)\n",
    "       \n",
    "    i += 1\n",
    "solver.finalize()"
   ]
  },
  {
   "cell_type": "code",
   "execution_count": null,
   "metadata": {},
   "outputs": [],
   "source": [
    "confString = conf.original.stringify()\n",
    "\n",
    "if not os.path.isdir(conf.paths.outputDir):\n",
    "    os.makedirs(conf.paths.outputDir, 0o0755)\n",
    "confOutPath = os.path.join(conf.paths.outputDir, 'config')\n",
    "if (os.path.exists(confOutPath)):\n",
    "    os.unlink(confOutPath)\n",
    "confOut = open(confOutPath, 'w')\n",
    "confOut.write(confString)"
   ]
  },
  {
   "cell_type": "code",
   "execution_count": 6,
   "metadata": {},
   "outputs": [],
   "source": [
    "\n",
    "xhis = np.load('/Users/elotech/Documents/CODES/SCI-ML/oneDFlameSolver/ember/python/ember/examples/run/ex_diffusion9/xhistory copy.npy')\n",
    "This = np.load('/Users/elotech/Documents/CODES/SCI-ML/oneDFlameSolver/ember/python/ember/examples/run/ex_diffusion9/thistory copy.npy')\n",
    "Yhis = np.load('/Users/elotech/Documents/CODES/SCI-ML/oneDFlameSolver/ember/python/ember/examples/run/ex_diffusion9/yhistory copy.npy')"
   ]
  },
  {
   "cell_type": "code",
   "execution_count": 6,
   "metadata": {},
   "outputs": [],
   "source": [
    "\n",
    "\n",
    "solver = _ember.FlameSolver(conf)\n",
    "solver.initialize()\n",
    "visualizer = FlameVisualizer(solver)\n",
    "\n",
    "prev_T = solver.T \n",
    "prev_Y = solver.Y\n",
    "prev_x = solver.x\n",
    "\n",
    "visualizer.save_state()\n"
   ]
  },
  {
   "cell_type": "code",
   "execution_count": 7,
   "metadata": {},
   "outputs": [],
   "source": [
    "def plot_flame(solver, iter=0, t=0):\n",
    "    \"\"\"\n",
    "    Plot flame structure (temperature, species, velocity)\n",
    "    \"\"\"\n",
    "    species_names=['CH4', 'O2', 'N2', 'H2O', 'CO2', 'CO', 'OH']\n",
    "    title = 'Flame Structure'\n",
    "    if not hasattr(solver, 'grid'):\n",
    "        x = solver.x * 1000  # Convert to mm\n",
    "    else:\n",
    "        x = solver.grid.x * 1000  # Convert to mm\n",
    "\n",
    "    # Create figure with 3 subplots\n",
    "\n",
    "    fig, (ax1, ax2, ax3) = plt.subplots(3, 1, figsize=(10, 12))\n",
    "    fig.suptitle(f'{title} at t = {t:.3f} s')\n",
    "\n",
    "\n",
    "    # Temperature profile\n",
    "    ax1.plot(x, solver.T, 'r-', label='Temperature')\n",
    "    ax1.set_ylabel('Temperature [K]')\n",
    "    ax1.legend()\n",
    "    ax1.grid(True)\n",
    "\n",
    "    # Species profiles\n",
    "    if species_names is None:\n",
    "        # Plot major species (Y > 0.01 anywhere)\n",
    "        mask = np.max(solver.Y, axis=1) > 0.01\n",
    "        species_indices = np.where(mask)[0]\n",
    "        if gas is None:\n",
    "            species_names = [solver.gas.species_name(k) for k in species_indices]\n",
    "        else:\n",
    "            species_names = [gas.species_name(k) for k in species_indices]\n",
    "    else:\n",
    "        if gas is None:\n",
    "            species_indices = [solver.gas.species_index(name) \n",
    "                            for name in species_names]\n",
    "        else:\n",
    "            species_indices = [gas.species_index(name) \n",
    "                            for name in species_names]\n",
    "\n",
    "    for k, name in zip(species_indices, species_names):\n",
    "        ax2.plot(x, solver.Y[k], label=name)\n",
    "    ax2.set_ylabel('Mass Fraction')\n",
    "    ax2.legend()\n",
    "    ax2.grid(True)\n",
    "\n",
    "    # Velocity profile\n",
    "    ax3.plot(x, solver.U, 'b-', label='Mass Flux')\n",
    "    ax3.set_xlabel('Position [mm]')\n",
    "    ax3.set_ylabel('Mass Flux [kg/m²/s]')\n",
    "    ax3.legend()\n",
    "    ax3.grid(True)\n",
    "\n",
    "    plt.tight_layout()\n",
    "    plt.savefig(f'flame_{iter}.png')"
   ]
  },
  {
   "cell_type": "code",
   "execution_count": null,
   "metadata": {},
   "outputs": [],
   "source": [
    "done = solver.step()"
   ]
  },
  {
   "cell_type": "code",
   "execution_count": null,
   "metadata": {},
   "outputs": [],
   "source": [
    "done = 0\n",
    "i = 1\n",
    "plot_freq = 10\n",
    "print(solver.T[21:51])\n",
    "while not done:\n",
    "    done = solver.step()\n",
    "    if i % 5 == 0:\n",
    "        visualizer.save_state()\n",
    "        \n",
    "    # if i % plot_freq == 0:  \n",
    "    #     plot_flame(solver, i, i*1e-4)\n",
    "       \n",
    "    i += 1\n",
    "solver.finalize()"
   ]
  },
  {
   "cell_type": "code",
   "execution_count": null,
   "metadata": {},
   "outputs": [],
   "source": [
    "plt.plot(solver.x, visualizer.history['V'][1], label=\"initial\")\n",
    "plt.title(\"Velocity Profile (CPP)\")\n",
    "# plt.plot(solver.x, visualizer.history['V'][800], label=\"final\")"
   ]
  },
  {
   "cell_type": "code",
   "execution_count": null,
   "metadata": {},
   "outputs": [],
   "source": [
    "plt.plot(solver.x, solver.U)"
   ]
  },
  {
   "cell_type": "code",
   "execution_count": null,
   "metadata": {},
   "outputs": [],
   "source": [
    "plt.plot(solver.x, solver.T)"
   ]
  },
  {
   "cell_type": "code",
   "execution_count": 129,
   "metadata": {},
   "outputs": [],
   "source": [
    "# save history \n",
    "cpp_history = visualizer.history"
   ]
  },
  {
   "cell_type": "code",
   "execution_count": 130,
   "metadata": {},
   "outputs": [],
   "source": [
    "# save dictionary to file\n",
    "import pickle\n",
    "with open('cpp_history.pkl', 'wb') as f:\n",
    "    pickle.dump(cpp_history, f)"
   ]
  },
  {
   "cell_type": "code",
   "execution_count": null,
   "metadata": {},
   "outputs": [],
   "source": [
    "plt.plot(solver.x, solver.U)"
   ]
  },
  {
   "cell_type": "code",
   "execution_count": null,
   "metadata": {},
   "outputs": [],
   "source": [
    "plt.plot(solver.x, solver.V)"
   ]
  },
  {
   "cell_type": "code",
   "execution_count": null,
   "metadata": {},
   "outputs": [],
   "source": [
    "plt.plot(solver.x, visualizer.history['T'][-1])"
   ]
  },
  {
   "cell_type": "code",
   "execution_count": null,
   "metadata": {},
   "outputs": [],
   "source": [
    "plt.plot(solver.x, solver.rhoD[ch4_index, :])\n",
    "plt.plot(solver.x, solver.rhoD[o2_index, :])\n",
    "plt.plot(solver.x, solver.rhoD[n2_index, :])"
   ]
  },
  {
   "cell_type": "code",
   "execution_count": 134,
   "metadata": {},
   "outputs": [],
   "source": [
    "struct_file = 'run/ex_diffusion10/profNow.h5'\n",
    "struct = h5py.File(struct_file, 'r')\n",
    "\n",
    "x = struct['x'][:]\n",
    "Y = struct['Y'][:]\n",
    "V = struct['V'][:]\n",
    "T = struct['T'][:]"
   ]
  },
  {
   "cell_type": "code",
   "execution_count": null,
   "metadata": {},
   "outputs": [],
   "source": [
    "\n",
    "fig, ax = plt.subplots(1, 1, figsize=(8, 6), dpi=200)\n",
    "plt.plot(prev_x, prev_T, label='cpp(0.0)', color='red')\n",
    "plt.plot(solver.x, solver.T, label='cpp (0.08)', linestyle='dashed')\n",
    "plt.plot(x, T, label='cpp (0.01)', linestyle='dashdot')\n",
    "plt.plot(xhis[0], This[0], label='python (0.0)', linestyle='dotted')\n",
    "plt.plot(xhis[-1], This[-1], label='python (0.01)', linestyle='dotted')\n",
    "plt.legend()\n",
    "plt.title('Temperature Profile, CPP')\n",
    "plt.show() \n"
   ]
  },
  {
   "cell_type": "code",
   "execution_count": null,
   "metadata": {},
   "outputs": [],
   "source": [
    "plt.plot(solver.x, solver.Y[ch4_index,:], label='final CH4')\n",
    "plt.plot(prev_x, prev_Y[ch4_index,:], label='initial CH4',linestyle='--')\n",
    "plt.plot(prev_x, prev_Y[o2_index,:], label='initial O2', linestyle='--')\n",
    "plt.plot(solver.x, solver.Y[o2_index,:], label='final O2')\n",
    "plt.plot(solver.x, solver.Y[n2_index,:], label='final N2', linestyle='--')\n",
    "plt.plot(prev_x, prev_Y[n2_index,:], label='initial N2')\n",
    "\n",
    "plt.plot(solver.x, solver.Y[h2o_index,:], label='H2O')\n",
    "plt.plot(solver.x, solver.Y[co2_index,:], label='CO2')\n",
    "\n",
    "plt.plot(solver.x, solver.Y[co_index,:], label='CO')\n",
    "\n",
    "plt.plot(solver.x, solver.Y[oh_index,:], label='OH')\n",
    "\n",
    "plt.legend()\n",
    "plt.title(\"Correct Evolution of Species (CPP)\")\n",
    "plt.savefig('species_evolution.png')\n",
    "plt.show()"
   ]
  },
  {
   "cell_type": "code",
   "execution_count": 15,
   "metadata": {},
   "outputs": [],
   "source": [
    "# get index for CH4, O2, N2, H2O, CO2, CO\n",
    "gas = ct.Solution('gri30.yaml')\n",
    "names = gas.species_names\n",
    "ch4_index = names.index('CH4')\n",
    "o2_index = names.index('O2')\n",
    "n2_index = names.index('N2')\n",
    "h2o_index = names.index('H2O')\n",
    "co2_index = names.index('CO2')\n",
    "co_index = names.index('CO')\n",
    "oh_index = names.index('OH')\n"
   ]
  },
  {
   "cell_type": "code",
   "execution_count": 34,
   "metadata": {},
   "outputs": [],
   "source": []
  },
  {
   "cell_type": "code",
   "execution_count": 17,
   "metadata": {},
   "outputs": [],
   "source": []
  },
  {
   "cell_type": "code",
   "execution_count": null,
   "metadata": {},
   "outputs": [],
   "source": [
    "\n",
    "plt.plot(prev_x, prev_T, label='initial T', color='red')\n",
    "plt.plot(x, T, label='final T', linestyle='dashed')\n",
    "plt.legend()\n",
    "plt.title('Temperature Profile, CPP')\n",
    "plt.show() \n"
   ]
  },
  {
   "cell_type": "code",
   "execution_count": null,
   "metadata": {},
   "outputs": [],
   "source": [
    "\n",
    "plot_analysis(struct_file, ['CH4', 'O2', 'H2O', 'CO2', 'OH'], [ch4_index, o2_index, h2o_index, co2_index, oh_index])"
   ]
  },
  {
   "cell_type": "markdown",
   "metadata": {},
   "source": []
  },
  {
   "cell_type": "code",
   "execution_count": null,
   "metadata": {},
   "outputs": [],
   "source": [
    "struct_file_2 = 'run/ex_diffusion7/prof000201.h5'\n",
    "plot_analysis(struct_file_2, ['CH4', 'O2', 'H2O', 'CO2', 'CO'], [ch4_index, o2_index, h2o_index, co2_index, co_index])"
   ]
  },
  {
   "cell_type": "code",
   "execution_count": null,
   "metadata": {},
   "outputs": [],
   "source": [
    "struct_file_3 = '../../../run/ex_diffusion6/prof000210.h5'\n",
    "plot_analysis(struct_file_3, ['CH4', 'O2', 'H2O', 'CO2', 'CO'], [ch4_index, o2_index, h2o_index, co2_index, co_index])"
   ]
  },
  {
   "cell_type": "code",
   "execution_count": 1,
   "metadata": {},
   "outputs": [],
   "source": [
    "from ember import ZeroDCombustion\n",
    "\n",
    "from ember import Config, Paths, InitialCondition, StrainParameters, General, Times, TerminationCondition, ConcreteConfig, Grid, PositionControl,General, Debug\n",
    "import matplotlib.pyplot as plt\n",
    "import numpy as np\n",
    "import cantera as ct\n",
    "\n",
    "gas = ct.Solution('gri30.yaml')\n",
    "names = gas.species_names\n",
    "ch4_index = names.index('CH4')\n",
    "o2_index = names.index('O2')\n",
    "n2_index = names.index('N2')\n",
    "h2o_index = names.index('H2O')\n",
    "co2_index = names.index('CO2')\n",
    "co_index = names.index('CO')\n",
    "oh_index = names.index('OH')\n"
   ]
  },
  {
   "cell_type": "code",
   "execution_count": 2,
   "metadata": {},
   "outputs": [
    {
     "name": "stdout",
     "output_type": "stream",
     "text": [
      "jm = 49\n"
     ]
    }
   ],
   "source": [
    "\n",
    "# Create and configure the solver\n",
    "conf = ConcreteConfig(Config(\n",
    "    Paths(outputDir='run/ex_diffusion12'),\n",
    "    General(nThreads=1,\n",
    "            chemistryIntegrator='boostRK'),\n",
    ")\n",
    "    )\n"
   ]
  },
  {
   "cell_type": "code",
   "execution_count": 3,
   "metadata": {},
   "outputs": [],
   "source": [
    "solver = ZeroDCombustion(conf)  # Use your existing ConfigOptions\n"
   ]
  },
  {
   "cell_type": "code",
   "execution_count": 4,
   "metadata": {},
   "outputs": [
    {
     "name": "stdout",
     "output_type": "stream",
     "text": [
      "Creating integrator of type: boostRK\n",
      "Creating Boost RK integrator\n",
      "Setting BoostRK options\n",
      "Initializing BoostRK\n",
      "Integrator created successfully\n",
      "ZeroDCombustion initialized successfully\n"
     ]
    }
   ],
   "source": [
    "solver.initialize()"
   ]
  },
  {
   "cell_type": "code",
   "execution_count": 5,
   "metadata": {},
   "outputs": [],
   "source": [
    "# Set initial state\n",
    "T0 = 1000  # Initial temperature in K\n",
    "Y0 = np.zeros(len(gas.species_names))  # Initial mass fractions\n",
    "Y0[ch4_index] = 0.1  # Set fuel mass fraction\n",
    "Y0[o2_index] = 0.9  # Set oxidizer mass fraction\n",
    "\n"
   ]
  },
  {
   "cell_type": "code",
   "execution_count": 6,
   "metadata": {},
   "outputs": [],
   "source": [
    "solver.set_state(T0, Y0)"
   ]
  },
  {
   "cell_type": "code",
   "execution_count": 7,
   "metadata": {},
   "outputs": [
    {
     "ename": "",
     "evalue": "",
     "output_type": "error",
     "traceback": [
      "\u001b[1;31mThe Kernel crashed while executing code in the current cell or a previous cell. \n",
      "\u001b[1;31mPlease review the code in the cell(s) to identify a possible cause of the failure. \n",
      "\u001b[1;31mClick <a href='https://aka.ms/vscodeJupyterKernelCrash'>here</a> for more info. \n",
      "\u001b[1;31mView Jupyter <a href='command:jupyter.viewOutput'>log</a> for further details."
     ]
    }
   ],
   "source": [
    "# Integration with different integrators\n",
    "solver.set_integrator_type('cvode')  # Start with CVODE\n",
    "\n"
   ]
  },
  {
   "cell_type": "code",
   "execution_count": null,
   "metadata": {},
   "outputs": [
    {
     "ename": "",
     "evalue": "",
     "output_type": "error",
     "traceback": [
      "\u001b[1;31mThe Kernel crashed while executing code in the current cell or a previous cell. \n",
      "\u001b[1;31mPlease review the code in the cell(s) to identify a possible cause of the failure. \n",
      "\u001b[1;31mClick <a href='https://aka.ms/vscodeJupyterKernelCrash'>here</a> for more info. \n",
      "\u001b[1;31mView Jupyter <a href='command:jupyter.viewOutput'>log</a> for further details."
     ]
    }
   ],
   "source": [
    "solver.integrate_to_time(2e-6)  # Next microsecond"
   ]
  },
  {
   "cell_type": "code",
   "execution_count": null,
   "metadata": {},
   "outputs": [],
   "source": [
    "\n",
    "\n",
    "\n",
    "\n",
    "\n",
    "solver.set_integrator_type('qss')  # Switch to QSS\n",
    "solver.integrate_to_time(2e-6)  # Next microsecond\n",
    "\n",
    "# Get results\n",
    "T = solver.T  # Current temperature\n",
    "Y = solver.Y  # Current mass fractions\n",
    "wdot = solver.reaction_rates  # Current reaction rates\n",
    "qdot = solver.heat_release_rate  # Current heat release rate"
   ]
  }
 ],
 "metadata": {
  "kernelspec": {
   "display_name": "Python 3",
   "language": "python",
   "name": "python3"
  },
  "language_info": {
   "codemirror_mode": {
    "name": "ipython",
    "version": 3
   },
   "file_extension": ".py",
   "mimetype": "text/x-python",
   "name": "python",
   "nbconvert_exporter": "python",
   "pygments_lexer": "ipython3",
   "version": "3.12.7"
  }
 },
 "nbformat": 4,
 "nbformat_minor": 2
}
